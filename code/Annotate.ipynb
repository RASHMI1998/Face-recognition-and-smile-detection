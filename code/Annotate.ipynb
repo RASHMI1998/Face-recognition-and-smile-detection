{
 "cells": [
  {
   "cell_type": "code",
   "execution_count": 2,
   "metadata": {},
   "outputs": [],
   "source": [
    "%matplotlib inline \n",
    "from pylab import * \n",
    "import ipywidgets as widgets \n",
    "from ipywidgets import interact, Button \n",
    "from IPython.display import display, clear_output \n",
    "import os, json \n",
    "import cv2 \n",
    "import pickle "
   ]
  },
  {
   "cell_type": "code",
   "execution_count": 3,
   "metadata": {},
   "outputs": [],
   "source": [
    "datadir = 'C:/Users/Shravani/Documents/bootcamp1/faces/' \n",
    "datadict_file = datadir+'faces.pkl' \n",
    "newpkl_file = datadir+'facesmeta.pkl' "
   ]
  },
  {
   "cell_type": "code",
   "execution_count": 4,
   "metadata": {},
   "outputs": [],
   "source": [
    "datafiles = [fn for fn in os.listdir(datadir) if fn[len(fn)-3:]=='jpg'] "
   ]
  },
  {
   "cell_type": "code",
   "execution_count": 5,
   "metadata": {},
   "outputs": [],
   "source": [
    "class Annotator:    \n",
    "    def __init__(self, datadir, datadict_file):        \n",
    "        data = []        \n",
    "        self.datadir = datadir        \n",
    "        self.index = 0        \n",
    "        with open(datadict_file, 'rb') as f:            \n",
    "            try:                \n",
    "                while True:                    \n",
    "                    data.append(pickle.load(f))            \n",
    "            except EOFError:                \n",
    "                pass        \n",
    "        self.fdata = {}        \n",
    "        self.newfdata = {}        \n",
    "        for thisdata in data:            \n",
    "            self.fdata.update(thisdata)        \n",
    "        for k in self.fdata:            \n",
    "            self.newfdata[k]={'encoding':self.fdata[k]} \n",
    "        self.filenames = [fn for fn in self.fdata]        \n",
    "        self.nooffaces = len(self.filenames)                \n",
    "        self.txt = widgets.Text(                    \n",
    "                    value='',                    \n",
    "                    placeholder='Type name',                    \n",
    "                    description='Name',                    \n",
    "                    disabled=False)        \n",
    "        self.button_ok = widgets.Button(description='Next please... '+ str(self.index))        \n",
    "        self.button_ok.on_click(self.update_record)                    \n",
    "    def next_sample_idx(self):        \n",
    "        if self.index + 1 >= len(self.filenames):            \n",
    "            self.index = -1        \n",
    "        else:            \n",
    "            self.index += 1      \n",
    "        \n",
    "    def record_result(self, name='unknown'):        \n",
    "        self.newfdata[self.curr_sample].update({'name':name})        \n",
    "        self.next_sample_idx()        \n",
    "\n",
    "    def display_face(self, sample):        \n",
    "        self.curr_sample = sample        \n",
    "        clear_output()        \n",
    "        img = cv2.imread(self.datadir + sample)        \n",
    "        img = cv2.cvtColor(img, cv2.COLOR_BGR2RGB)        \n",
    "        imshow(img, cmap='gray')        \n",
    "        axis('off')        #self.txt        \n",
    "        display(self.txt)        #display(self.button_ok)        \n",
    "        self.txt.on_submit(self.txt_callback)            \n",
    "    def txt_callback(self, wdgt):        \n",
    "        wv = wdgt.value        \n",
    "        if wv=='':            \n",
    "            wv='unknown'        \n",
    "        self.record_result(wv)        \n",
    "        clear_output() \n",
    "        self.button_ok.description = 'Next please... '+ str(self.index)     \n",
    "        display(self.button_ok)            \n",
    "    def update_record(self, sender):        \n",
    "        clear_output()        \n",
    "        if self.index == -1:           \n",
    "            self.button_ok.description = 'Completed...'            \n",
    "            display(self.button_ok)        \n",
    "        else:            \n",
    "            self.button_ok.description = 'Next please... '+ str(self.index)            \n",
    "            self.display_face(self.filenames[self.index]) "
   ]
  },
  {
   "cell_type": "code",
   "execution_count": 6,
   "metadata": {},
   "outputs": [],
   "source": [
    "annotator = Annotator(datadir, datadict_file) \n",
    "totalsamples = annotator.nooffaces "
   ]
  },
  {
   "cell_type": "code",
   "execution_count": 7,
   "metadata": {},
   "outputs": [
    {
     "data": {
      "application/vnd.jupyter.widget-view+json": {
       "model_id": "a394f6c1ad6b4fa2bde807739fad8432",
       "version_major": 2,
       "version_minor": 0
      },
      "text/plain": [
       "Button(description='Completed...', style=ButtonStyle())"
      ]
     },
     "metadata": {},
     "output_type": "display_data"
    }
   ],
   "source": [
    "annotator.display_face(annotator.filenames[annotator.index]) "
   ]
  },
  {
   "cell_type": "code",
   "execution_count": 8,
   "metadata": {},
   "outputs": [],
   "source": [
    "with open(newpkl_file,'wb') as f:    \n",
    "    pickle.dump(annotator.newfdata, f) "
   ]
  },
  {
   "cell_type": "code",
   "execution_count": 9,
   "metadata": {},
   "outputs": [
    {
     "name": "stdout",
     "output_type": "stream",
     "text": [
      "Rashmi\n",
      "Shwetha\n",
      "Shashwat\n",
      "Shravani\n",
      "Shashwat\n",
      "Shravani\n",
      "Shashwat\n"
     ]
    }
   ],
   "source": [
    "for ky in annotator.newfdata:    \n",
    "    print(annotator.newfdata[ky]['name']) "
   ]
  },
  {
   "cell_type": "code",
   "execution_count": null,
   "metadata": {},
   "outputs": [],
   "source": []
  }
 ],
 "metadata": {
  "kernelspec": {
   "display_name": "campenv",
   "language": "python",
   "name": "campenv"
  },
  "language_info": {
   "codemirror_mode": {
    "name": "ipython",
    "version": 3
   },
   "file_extension": ".py",
   "mimetype": "text/x-python",
   "name": "python",
   "nbconvert_exporter": "python",
   "pygments_lexer": "ipython3",
   "version": "3.6.6"
  }
 },
 "nbformat": 4,
 "nbformat_minor": 2
}
